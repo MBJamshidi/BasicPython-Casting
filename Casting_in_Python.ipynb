{
 "cells": [
  {
   "cell_type": "code",
   "execution_count": 1,
   "metadata": {},
   "outputs": [
    {
     "name": "stdout",
     "output_type": "stream",
     "text": [
      "{'C', 'A', 'B'}\n",
      "{12, -233, 'Jamshidi', 23.54, 'AI', 'Kermanshah', 'Behdad'}\n",
      "{'Jamshidi', 'Behdad'}\n",
      "{'C', 'A', 'B'}\n",
      "{12, -233, 'Jamshidi', 23.54, 'AI', 'Kermanshah', 'Behdad'}\n",
      "{'Jamshidi', 'Behdad'}\n"
     ]
    }
   ],
   "source": [
    "#Casting type in Python\n",
    "\n",
    "#Casting the lists and tuples to the sets\n",
    "\n",
    "#Python allows you to cast a list into a set utilizing 'set'\n",
    "q=['A','B','C','A','B','C']\n",
    "w=set(q)\n",
    "print(w)\n",
    "\n",
    "#All repetitious elements are eliminated to convert a list to a set\n",
    "bmj1=[\"Behdad\", \"Jamshidi\", \"Kermanshah\", \"AI\", 12, 23.54, 12.00, -233, \"AI\", \"Kermanshah\"]\n",
    "jam1=set(bmj1)\n",
    "print(jam1)\n",
    "\n",
    "# It is a matter of indifference to be a number of repetitious\n",
    "bmj1=[\"Behdad\", \"Jamshidi\", \"Behdad\", \"Jamshidi\", \"Behdad\", \"Jamshidi\", \"Behdad\", \"Jamshidi\"]\n",
    "jam1=set(bmj1)\n",
    "print(jam1)\n",
    "\n",
    "\n",
    "#Casting the tuples to the sets\n",
    "q=('A','B','C','A','B','C')\n",
    "w=set(q)\n",
    "print(w)\n",
    "\n",
    "#All repetitious elements are eliminated to convert a list to a set\n",
    "bmj1=(\"Behdad\", \"Jamshidi\", \"Kermanshah\", \"AI\", 12, 23.54, 12.00, -233, \"AI\", \"Kermanshah\")\n",
    "jam1=set(bmj1)\n",
    "print(jam1)\n",
    "\n",
    "# It is a matter of indifference to be a number of repetitious elements\n",
    "bmj1=(\"Behdad\", \"Jamshidi\", \"Behdad\", \"Jamshidi\", \"Behdad\", \"Jamshidi\", \"Behdad\", \"Jamshidi\")\n",
    "jam1=set(bmj1)\n",
    "print(jam1)\n"
   ]
  },
  {
   "cell_type": "code",
   "execution_count": 2,
   "metadata": {},
   "outputs": [
    {
     "name": "stdout",
     "output_type": "stream",
     "text": [
      "('A', 'B', 'C', 'A', 'B', 'C')\n",
      "('Behdad', 'Jamshidi', 'Kermanshah', 'AI', 12, 23.54, 12.0, -233, 'AI', 'Kermanshah')\n",
      "('Behdad', 'Jamshidi', 'Behdad', 'Jamshidi', 'Behdad', 'Jamshidi', 'Behdad', 'Jamshidi')\n",
      "('C', 'A', 'B')\n",
      "(12, -233, 'Jamshidi', 23.54, 'AI', 'Kermanshah', 'Behdad')\n",
      "('Jamshidi', 'Behdad')\n"
     ]
    }
   ],
   "source": [
    "#Casting type in Python\n",
    "\n",
    "#Casting the lists and sets to the tuples\n",
    "\n",
    "#Python allows you to cast a list into a tuple utilizing 'tuple'\n",
    "q=['A','B','C','A','B','C']\n",
    "w=tuple(q)\n",
    "print(w)\n",
    "\n",
    "#All repetitious elements are not eliminated to convert a list to a tuple. \n",
    "#So, it is different with sets!!!!!!!!!\n",
    "bmj1=[\"Behdad\", \"Jamshidi\", \"Kermanshah\", \"AI\", 12, 23.54, 12.00, -233, \"AI\", \"Kermanshah\"]\n",
    "jam1=tuple(bmj1)\n",
    "print(jam1)\n",
    "\n",
    "# It is a matter of indifference to be a number of repetitious\n",
    "bmj1=[\"Behdad\", \"Jamshidi\", \"Behdad\", \"Jamshidi\", \"Behdad\", \"Jamshidi\", \"Behdad\", \"Jamshidi\"]\n",
    "jam1=tuple(bmj1)\n",
    "print(jam1)\n",
    "\n",
    "\n",
    "#Casting the sets to the tuples through tuple\n",
    "q={'A','B','C','A','B','C'}\n",
    "w=tuple(q)\n",
    "print(w)\n",
    "\n",
    "#All repetitious elements are eliminated to convert a set to a tuple same as the tuples to the list\n",
    "bmj2={\"Behdad\", \"Jamshidi\", \"Kermanshah\", \"AI\", 12, 23.54, 12.00, -233, \"AI\", \"Kermanshah\",12, 23.54, 12.00}\n",
    "jam2=tuple(bmj2)\n",
    "print(jam2)\n",
    "\n",
    "# It is a matter of indifference to be a number of repetitious elements\n",
    "bmj2={\"Behdad\", \"Jamshidi\", \"Behdad\", \"Jamshidi\", \"Behdad\", \"Jamshidi\", \"Behdad\", \"Jamshidi\"}\n",
    "jam2=tuple(bmj2)\n",
    "print(jam2)\n"
   ]
  },
  {
   "cell_type": "code",
   "execution_count": 3,
   "metadata": {},
   "outputs": [
    {
     "name": "stdout",
     "output_type": "stream",
     "text": [
      "['A', 'B', 'C', 'A', 'B', 'C']\n",
      "['Behdad', 'Jamshidi', 'Kermanshah', 'AI', 12, 23.54, 12.0, -233, 'AI', 'Kermanshah']\n",
      "['Behdad', 'Jamshidi', 'Behdad', 'Jamshidi', 'Behdad', 'Jamshidi', 'Behdad', 'Jamshidi']\n",
      "['C', 'A', 'B']\n",
      "[12, -233, 'Jamshidi', 23.54, 'AI', 'Kermanshah', 'Behdad']\n",
      "['Jamshidi', 11, 'Behdad', 12]\n"
     ]
    }
   ],
   "source": [
    "#Casting type in Python\n",
    "\n",
    "#Casting the tuples and sets to lists\n",
    "\n",
    "#Python allows you to cast a tuple into a tuple utilizing 'list'\n",
    "q=('A','B','C','A','B','C')\n",
    "w=list(q)\n",
    "print(w)\n",
    "\n",
    "#All repetitious elements are not eliminated to convert a list to a tuple. \n",
    "#So, it is different with sets!!!!!!!!!\n",
    "bmj1=(\"Behdad\", \"Jamshidi\", \"Kermanshah\", \"AI\", 12, 23.54, 12.00, -233, \"AI\", \"Kermanshah\")\n",
    "jam1=list(bmj1)\n",
    "print(jam1)\n",
    "\n",
    "# It is a matter of indifference to be a number of repetitious\n",
    "bmj1=(\"Behdad\", \"Jamshidi\", \"Behdad\", \"Jamshidi\", \"Behdad\", \"Jamshidi\", \"Behdad\", \"Jamshidi\")\n",
    "jam1=list(bmj1)\n",
    "print(jam1)\n",
    "\n",
    "\n",
    "#Casting the sets to the tuples through tuple\n",
    "q={'A','B','C','A','B','C'}\n",
    "w=list(q)\n",
    "print(w)\n",
    "\n",
    "#All repetitious elements are eliminated to convert a set to a tuple same as the tuples to the list\n",
    "bmj3={\"Behdad\", \"Jamshidi\", \"Kermanshah\", \"AI\", 12, 23.54, 12.00, -233, \"AI\", \"Kermanshah\",12, 23.54, 12.00}\n",
    "jam3=list(bmj3)\n",
    "print(jam3)\n",
    "\n",
    "# It is a matter of indifference to be a number of repetitious elements\n",
    "bmj4={\"Behdad\", \"Jamshidi\", \"Behdad\", \"Jamshidi\", \"Behdad\", 11, 11, 12, \"Jamshidi\", \"Behdad\", \"Jamshidi\"}\n",
    "jam4=list(bmj4)\n",
    "print(jam4)\n"
   ]
  }
 ],
 "metadata": {
  "kernelspec": {
   "display_name": "Python 3",
   "language": "python",
   "name": "python3"
  },
  "language_info": {
   "codemirror_mode": {
    "name": "ipython",
    "version": 3
   },
   "file_extension": ".py",
   "mimetype": "text/x-python",
   "name": "python",
   "nbconvert_exporter": "python",
   "pygments_lexer": "ipython3",
   "version": "3.7.6"
  }
 },
 "nbformat": 4,
 "nbformat_minor": 4
}
